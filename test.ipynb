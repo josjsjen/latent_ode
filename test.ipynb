{
 "cells": [
  {
   "cell_type": "code",
   "execution_count": 2,
   "metadata": {
    "ExecuteTime": {
     "end_time": "2020-07-29T19:58:19.093048Z",
     "start_time": "2020-07-29T19:58:18.626862Z"
    }
   },
   "outputs": [],
   "source": [
    "import pandas as pd\n",
    "\n",
    "df = pd.read_csv('data/camh/simdata_long_n100.csv')"
   ]
  },
  {
   "cell_type": "code",
   "execution_count": 72,
   "metadata": {
    "ExecuteTime": {
     "end_time": "2020-07-30T02:36:36.293761Z",
     "start_time": "2020-07-30T02:36:36.276069Z"
    }
   },
   "outputs": [
    {
     "data": {
      "text/html": [
       "<div>\n",
       "<style scoped>\n",
       "    .dataframe tbody tr th:only-of-type {\n",
       "        vertical-align: middle;\n",
       "    }\n",
       "\n",
       "    .dataframe tbody tr th {\n",
       "        vertical-align: top;\n",
       "    }\n",
       "\n",
       "    .dataframe thead th {\n",
       "        text-align: right;\n",
       "    }\n",
       "</style>\n",
       "<table border=\"1\" class=\"dataframe\">\n",
       "  <thead>\n",
       "    <tr style=\"text-align: right;\">\n",
       "      <th></th>\n",
       "      <th>id</th>\n",
       "      <th>period</th>\n",
       "      <th>msex</th>\n",
       "      <th>geno1</th>\n",
       "      <th>geno2</th>\n",
       "      <th>geno3</th>\n",
       "      <th>time</th>\n",
       "      <th>img1</th>\n",
       "      <th>img2</th>\n",
       "      <th>img3</th>\n",
       "      <th>cog1</th>\n",
       "      <th>cog2</th>\n",
       "      <th>cog3</th>\n",
       "      <th>ses</th>\n",
       "    </tr>\n",
       "  </thead>\n",
       "  <tbody>\n",
       "    <tr>\n",
       "      <th>366</th>\n",
       "      <td>sub69</td>\n",
       "      <td>0</td>\n",
       "      <td>1</td>\n",
       "      <td>3</td>\n",
       "      <td>3</td>\n",
       "      <td>1</td>\n",
       "      <td>0</td>\n",
       "      <td>7.942824</td>\n",
       "      <td>11.050807</td>\n",
       "      <td>-2.075689</td>\n",
       "      <td>8.252405</td>\n",
       "      <td>18.057623</td>\n",
       "      <td>17.236605</td>\n",
       "      <td>26.968101</td>\n",
       "    </tr>\n",
       "    <tr>\n",
       "      <th>367</th>\n",
       "      <td>sub69</td>\n",
       "      <td>1</td>\n",
       "      <td>1</td>\n",
       "      <td>3</td>\n",
       "      <td>3</td>\n",
       "      <td>1</td>\n",
       "      <td>6</td>\n",
       "      <td>NaN</td>\n",
       "      <td>NaN</td>\n",
       "      <td>NaN</td>\n",
       "      <td>6.764888</td>\n",
       "      <td>14.526613</td>\n",
       "      <td>17.475498</td>\n",
       "      <td>21.688457</td>\n",
       "    </tr>\n",
       "    <tr>\n",
       "      <th>368</th>\n",
       "      <td>sub69</td>\n",
       "      <td>2</td>\n",
       "      <td>1</td>\n",
       "      <td>3</td>\n",
       "      <td>3</td>\n",
       "      <td>1</td>\n",
       "      <td>12</td>\n",
       "      <td>6.386433</td>\n",
       "      <td>8.181420</td>\n",
       "      <td>4.868396</td>\n",
       "      <td>3.183381</td>\n",
       "      <td>12.364513</td>\n",
       "      <td>23.861694</td>\n",
       "      <td>12.945550</td>\n",
       "    </tr>\n",
       "    <tr>\n",
       "      <th>369</th>\n",
       "      <td>sub69</td>\n",
       "      <td>3</td>\n",
       "      <td>1</td>\n",
       "      <td>3</td>\n",
       "      <td>3</td>\n",
       "      <td>1</td>\n",
       "      <td>18</td>\n",
       "      <td>NaN</td>\n",
       "      <td>NaN</td>\n",
       "      <td>NaN</td>\n",
       "      <td>0.596725</td>\n",
       "      <td>9.860425</td>\n",
       "      <td>26.114127</td>\n",
       "      <td>10.136811</td>\n",
       "    </tr>\n",
       "    <tr>\n",
       "      <th>370</th>\n",
       "      <td>sub69</td>\n",
       "      <td>4</td>\n",
       "      <td>1</td>\n",
       "      <td>3</td>\n",
       "      <td>3</td>\n",
       "      <td>1</td>\n",
       "      <td>24</td>\n",
       "      <td>NaN</td>\n",
       "      <td>NaN</td>\n",
       "      <td>NaN</td>\n",
       "      <td>-1.784479</td>\n",
       "      <td>6.234164</td>\n",
       "      <td>27.597313</td>\n",
       "      <td>0.595799</td>\n",
       "    </tr>\n",
       "    <tr>\n",
       "      <th>371</th>\n",
       "      <td>sub69</td>\n",
       "      <td>5</td>\n",
       "      <td>1</td>\n",
       "      <td>3</td>\n",
       "      <td>3</td>\n",
       "      <td>1</td>\n",
       "      <td>30</td>\n",
       "      <td>3.696298</td>\n",
       "      <td>5.931797</td>\n",
       "      <td>1.705776</td>\n",
       "      <td>-3.210402</td>\n",
       "      <td>4.062567</td>\n",
       "      <td>34.508350</td>\n",
       "      <td>-3.402739</td>\n",
       "    </tr>\n",
       "    <tr>\n",
       "      <th>372</th>\n",
       "      <td>sub69</td>\n",
       "      <td>6</td>\n",
       "      <td>1</td>\n",
       "      <td>3</td>\n",
       "      <td>3</td>\n",
       "      <td>1</td>\n",
       "      <td>36</td>\n",
       "      <td>4.268842</td>\n",
       "      <td>4.541949</td>\n",
       "      <td>1.382950</td>\n",
       "      <td>-6.003822</td>\n",
       "      <td>1.939546</td>\n",
       "      <td>35.342976</td>\n",
       "      <td>-6.366126</td>\n",
       "    </tr>\n",
       "    <tr>\n",
       "      <th>373</th>\n",
       "      <td>sub69</td>\n",
       "      <td>7</td>\n",
       "      <td>1</td>\n",
       "      <td>3</td>\n",
       "      <td>3</td>\n",
       "      <td>1</td>\n",
       "      <td>42</td>\n",
       "      <td>3.452485</td>\n",
       "      <td>2.120400</td>\n",
       "      <td>1.793578</td>\n",
       "      <td>-8.782625</td>\n",
       "      <td>1.987248</td>\n",
       "      <td>41.977552</td>\n",
       "      <td>-9.162012</td>\n",
       "    </tr>\n",
       "    <tr>\n",
       "      <th>374</th>\n",
       "      <td>sub69</td>\n",
       "      <td>8</td>\n",
       "      <td>1</td>\n",
       "      <td>3</td>\n",
       "      <td>3</td>\n",
       "      <td>1</td>\n",
       "      <td>48</td>\n",
       "      <td>3.920347</td>\n",
       "      <td>1.664505</td>\n",
       "      <td>-0.055124</td>\n",
       "      <td>-10.841635</td>\n",
       "      <td>-1.153497</td>\n",
       "      <td>47.021450</td>\n",
       "      <td>-18.016193</td>\n",
       "    </tr>\n",
       "    <tr>\n",
       "      <th>375</th>\n",
       "      <td>sub69</td>\n",
       "      <td>9</td>\n",
       "      <td>1</td>\n",
       "      <td>3</td>\n",
       "      <td>3</td>\n",
       "      <td>1</td>\n",
       "      <td>54</td>\n",
       "      <td>4.246697</td>\n",
       "      <td>4.301326</td>\n",
       "      <td>4.902001</td>\n",
       "      <td>-11.404033</td>\n",
       "      <td>-2.206021</td>\n",
       "      <td>50.285018</td>\n",
       "      <td>-18.738618</td>\n",
       "    </tr>\n",
       "    <tr>\n",
       "      <th>376</th>\n",
       "      <td>sub69</td>\n",
       "      <td>10</td>\n",
       "      <td>1</td>\n",
       "      <td>3</td>\n",
       "      <td>3</td>\n",
       "      <td>1</td>\n",
       "      <td>60</td>\n",
       "      <td>2.883523</td>\n",
       "      <td>2.674891</td>\n",
       "      <td>1.046693</td>\n",
       "      <td>-14.003447</td>\n",
       "      <td>-2.543588</td>\n",
       "      <td>58.895523</td>\n",
       "      <td>-24.011323</td>\n",
       "    </tr>\n",
       "    <tr>\n",
       "      <th>377</th>\n",
       "      <td>sub69</td>\n",
       "      <td>11</td>\n",
       "      <td>1</td>\n",
       "      <td>3</td>\n",
       "      <td>3</td>\n",
       "      <td>1</td>\n",
       "      <td>66</td>\n",
       "      <td>1.881854</td>\n",
       "      <td>2.246408</td>\n",
       "      <td>-1.684907</td>\n",
       "      <td>-14.988073</td>\n",
       "      <td>-9.063218</td>\n",
       "      <td>54.972757</td>\n",
       "      <td>-32.168080</td>\n",
       "    </tr>\n",
       "  </tbody>\n",
       "</table>\n",
       "</div>"
      ],
      "text/plain": [
       "        id  period  msex  geno1  geno2  geno3  time      img1       img2  \\\n",
       "366  sub69       0     1      3      3      1     0  7.942824  11.050807   \n",
       "367  sub69       1     1      3      3      1     6       NaN        NaN   \n",
       "368  sub69       2     1      3      3      1    12  6.386433   8.181420   \n",
       "369  sub69       3     1      3      3      1    18       NaN        NaN   \n",
       "370  sub69       4     1      3      3      1    24       NaN        NaN   \n",
       "371  sub69       5     1      3      3      1    30  3.696298   5.931797   \n",
       "372  sub69       6     1      3      3      1    36  4.268842   4.541949   \n",
       "373  sub69       7     1      3      3      1    42  3.452485   2.120400   \n",
       "374  sub69       8     1      3      3      1    48  3.920347   1.664505   \n",
       "375  sub69       9     1      3      3      1    54  4.246697   4.301326   \n",
       "376  sub69      10     1      3      3      1    60  2.883523   2.674891   \n",
       "377  sub69      11     1      3      3      1    66  1.881854   2.246408   \n",
       "\n",
       "         img3       cog1       cog2       cog3        ses  \n",
       "366 -2.075689   8.252405  18.057623  17.236605  26.968101  \n",
       "367       NaN   6.764888  14.526613  17.475498  21.688457  \n",
       "368  4.868396   3.183381  12.364513  23.861694  12.945550  \n",
       "369       NaN   0.596725   9.860425  26.114127  10.136811  \n",
       "370       NaN  -1.784479   6.234164  27.597313   0.595799  \n",
       "371  1.705776  -3.210402   4.062567  34.508350  -3.402739  \n",
       "372  1.382950  -6.003822   1.939546  35.342976  -6.366126  \n",
       "373  1.793578  -8.782625   1.987248  41.977552  -9.162012  \n",
       "374 -0.055124 -10.841635  -1.153497  47.021450 -18.016193  \n",
       "375  4.902001 -11.404033  -2.206021  50.285018 -18.738618  \n",
       "376  1.046693 -14.003447  -2.543588  58.895523 -24.011323  \n",
       "377 -1.684907 -14.988073  -9.063218  54.972757 -32.168080  "
      ]
     },
     "execution_count": 72,
     "metadata": {},
     "output_type": "execute_result"
    }
   ],
   "source": [
    "df.loc[df.id=='sub69']"
   ]
  },
  {
   "cell_type": "code",
   "execution_count": 41,
   "metadata": {
    "ExecuteTime": {
     "end_time": "2020-07-30T02:15:05.088810Z",
     "start_time": "2020-07-30T02:15:04.793349Z"
    }
   },
   "outputs": [],
   "source": [
    "max_timestamps = 0\n",
    "\n",
    "for id in df.id.values:\n",
    "    if df.loc[df.id == id].iloc[:, 1].shape[0] > max_timestamps:\n",
    "        max_timestamps = df.loc[df.id == id].iloc[:, 1].shape[0]"
   ]
  },
  {
   "cell_type": "code",
   "execution_count": 42,
   "metadata": {
    "ExecuteTime": {
     "end_time": "2020-07-30T02:15:05.683217Z",
     "start_time": "2020-07-30T02:15:05.679482Z"
    }
   },
   "outputs": [
    {
     "data": {
      "text/plain": [
       "12"
      ]
     },
     "execution_count": 42,
     "metadata": {},
     "output_type": "execute_result"
    }
   ],
   "source": [
    "max_timestamps"
   ]
  },
  {
   "cell_type": "code",
   "execution_count": null,
   "metadata": {},
   "outputs": [],
   "source": [
    "import numpy as np\n",
    "\n",
    "tt = np.arange(max_timestamps)"
   ]
  },
  {
   "cell_type": "code",
   "execution_count": 44,
   "metadata": {
    "ExecuteTime": {
     "end_time": "2020-07-30T02:24:29.318862Z",
     "start_time": "2020-07-30T02:24:29.313224Z"
    }
   },
   "outputs": [
    {
     "data": {
      "text/plain": [
       "array([[1, 2, 3],\n",
       "       [1, 2, 3],\n",
       "       [1, 2, 3],\n",
       "       [1, 2, 3],\n",
       "       [1, 2, 3]])"
      ]
     },
     "execution_count": 44,
     "metadata": {},
     "output_type": "execute_result"
    }
   ],
   "source": [
    "arr = np.array([1,2,3])\n",
    "np.stack([arr for _ in range(5)], axis=0)"
   ]
  },
  {
   "cell_type": "code",
   "execution_count": 71,
   "metadata": {
    "ExecuteTime": {
     "end_time": "2020-07-30T02:36:29.931685Z",
     "start_time": "2020-07-30T02:36:29.925108Z"
    },
    "scrolled": true
   },
   "outputs": [
    {
     "data": {
      "text/plain": [
       "(12, 13)"
      ]
     },
     "execution_count": 71,
     "metadata": {},
     "output_type": "execute_result"
    }
   ],
   "source": [
    "vals = df.loc[df.id == 'sub1'].iloc[:, 1:].values\n",
    "dup = np.stack([vals[-1] for _ in range(max_timestamps-vals.shape[0])], axis=0)\n",
    "np.vstack((vals, dup)).shape"
   ]
  },
  {
   "cell_type": "code",
   "execution_count": 25,
   "metadata": {
    "ExecuteTime": {
     "end_time": "2020-07-30T02:00:16.148390Z",
     "start_time": "2020-07-30T02:00:16.142744Z"
    },
    "scrolled": true
   },
   "outputs": [
    {
     "data": {
      "text/plain": [
       "array([[1., 1., 1., 1., 1., 1., 1., 1., 1., 1., 1., 1., 1.],\n",
       "       [1., 1., 1., 1., 1., 1., 0., 0., 0., 1., 1., 1., 1.],\n",
       "       [1., 1., 1., 1., 1., 1., 1., 1., 1., 1., 1., 1., 1.],\n",
       "       [1., 1., 1., 1., 1., 1., 0., 0., 0., 1., 1., 1., 1.],\n",
       "       [1., 1., 1., 1., 1., 1., 0., 0., 0., 1., 1., 1., 1.],\n",
       "       [1., 1., 1., 1., 1., 1., 1., 1., 1., 1., 1., 1., 1.]])"
      ]
     },
     "execution_count": 25,
     "metadata": {},
     "output_type": "execute_result"
    }
   ],
   "source": [
    "masks = vals\n",
    "masks\n",
    "masks[~np.isnan(masks)]=1\n",
    "masks[np.isnan(masks)]=0\n",
    "masks"
   ]
  },
  {
   "cell_type": "code",
   "execution_count": 79,
   "metadata": {
    "ExecuteTime": {
     "end_time": "2020-07-30T15:53:00.173451Z",
     "start_time": "2020-07-30T15:53:00.168551Z"
    }
   },
   "outputs": [
    {
     "name": "stderr",
     "output_type": "stream",
     "text": [
      "/Users/jzhu/miniconda3/lib/python3.7/site-packages/ipykernel_launcher.py:4: UserWarning: To copy construct from a tensor, it is recommended to use sourceTensor.clone().detach() or sourceTensor.clone().detach().requires_grad_(True), rather than torch.tensor(sourceTensor).\n",
      "  after removing the cwd from sys.path.\n",
      "/Users/jzhu/miniconda3/lib/python3.7/site-packages/ipykernel_launcher.py:5: UserWarning: To copy construct from a tensor, it is recommended to use sourceTensor.clone().detach() or sourceTensor.clone().detach().requires_grad_(True), rather than torch.tensor(sourceTensor).\n",
      "  \"\"\"\n",
      "/Users/jzhu/miniconda3/lib/python3.7/site-packages/ipykernel_launcher.py:6: UserWarning: To copy construct from a tensor, it is recommended to use sourceTensor.clone().detach() or sourceTensor.clone().detach().requires_grad_(True), rather than torch.tensor(sourceTensor).\n",
      "  \n"
     ]
    }
   ],
   "source": [
    "import torch \n",
    "\n",
    "patient = 'sub1'\n",
    "tt = torch.tensor(tt).to(\"cpu\")\n",
    "vals = torch.tensor(vals).to(\"cpu\").to(dtype=torch.float32)\n",
    "masks = torch.tensor(masks).to(\"cpu\")\n"
   ]
  },
  {
   "cell_type": "code",
   "execution_count": 80,
   "metadata": {
    "ExecuteTime": {
     "end_time": "2020-07-30T15:53:00.935848Z",
     "start_time": "2020-07-30T15:53:00.930830Z"
    }
   },
   "outputs": [
    {
     "data": {
      "text/plain": [
       "tensor([[ 0.0000,  1.0000,  3.0000,  2.0000,  3.0000,  0.0000,  6.5583,  1.1190,\n",
       "          3.3222,  3.3068, 14.0680, 16.1814, 20.4063],\n",
       "        [ 1.0000,  1.0000,  3.0000,  2.0000,  3.0000,  6.0000,     nan,     nan,\n",
       "             nan,  4.6677, 14.8232, 21.7888, 23.0817],\n",
       "        [ 2.0000,  1.0000,  3.0000,  2.0000,  3.0000, 12.0000,  7.3039,  6.4043,\n",
       "          4.4679,  2.1266, 13.1579, 28.0446, 17.3802],\n",
       "        [ 3.0000,  1.0000,  3.0000,  2.0000,  3.0000, 18.0000,     nan,     nan,\n",
       "             nan, -1.1504, 10.1786, 28.0706, 10.5604],\n",
       "        [ 4.0000,  1.0000,  3.0000,  2.0000,  3.0000, 24.0000,     nan,     nan,\n",
       "             nan, -3.8797, 10.1490, 31.4411,  6.7911],\n",
       "        [ 5.0000,  1.0000,  3.0000,  2.0000,  3.0000, 30.0000,  4.1756,  4.7853,\n",
       "          0.6693, -5.4468,  3.8173, 27.7136, -4.0076]])"
      ]
     },
     "execution_count": 80,
     "metadata": {},
     "output_type": "execute_result"
    }
   ],
   "source": [
    "vals"
   ]
  },
  {
   "cell_type": "code",
   "execution_count": 27,
   "metadata": {
    "ExecuteTime": {
     "end_time": "2020-07-30T02:04:21.603856Z",
     "start_time": "2020-07-30T02:04:21.601046Z"
    }
   },
   "outputs": [],
   "source": [
    "dataset_obj = []\n",
    "dataset_obj.append((patient,tt,vals,masks))"
   ]
  },
  {
   "cell_type": "code",
   "execution_count": 28,
   "metadata": {
    "ExecuteTime": {
     "end_time": "2020-07-30T02:04:25.329851Z",
     "start_time": "2020-07-30T02:04:25.322446Z"
    }
   },
   "outputs": [
    {
     "data": {
      "text/plain": [
       "[('sub1',\n",
       "  tensor([0, 1, 2, 3, 4, 5]),\n",
       "  tensor([[1., 1., 1., 1., 1., 1., 1., 1., 1., 1., 1., 1., 1.],\n",
       "          [1., 1., 1., 1., 1., 1., 0., 0., 0., 1., 1., 1., 1.],\n",
       "          [1., 1., 1., 1., 1., 1., 1., 1., 1., 1., 1., 1., 1.],\n",
       "          [1., 1., 1., 1., 1., 1., 0., 0., 0., 1., 1., 1., 1.],\n",
       "          [1., 1., 1., 1., 1., 1., 0., 0., 0., 1., 1., 1., 1.],\n",
       "          [1., 1., 1., 1., 1., 1., 1., 1., 1., 1., 1., 1., 1.]],\n",
       "         dtype=torch.float64),\n",
       "  tensor([[1., 1., 1., 1., 1., 1., 1., 1., 1., 1., 1., 1., 1.],\n",
       "          [1., 1., 1., 1., 1., 1., 0., 0., 0., 1., 1., 1., 1.],\n",
       "          [1., 1., 1., 1., 1., 1., 1., 1., 1., 1., 1., 1., 1.],\n",
       "          [1., 1., 1., 1., 1., 1., 0., 0., 0., 1., 1., 1., 1.],\n",
       "          [1., 1., 1., 1., 1., 1., 0., 0., 0., 1., 1., 1., 1.],\n",
       "          [1., 1., 1., 1., 1., 1., 1., 1., 1., 1., 1., 1., 1.]],\n",
       "         dtype=torch.float64))]"
      ]
     },
     "execution_count": 28,
     "metadata": {},
     "output_type": "execute_result"
    }
   ],
   "source": [
    "dataset_obj"
   ]
  },
  {
   "cell_type": "code",
   "execution_count": null,
   "metadata": {},
   "outputs": [],
   "source": []
  }
 ],
 "metadata": {
  "kernelspec": {
   "display_name": "Python 3",
   "language": "python",
   "name": "python3"
  },
  "language_info": {
   "codemirror_mode": {
    "name": "ipython",
    "version": 3
   },
   "file_extension": ".py",
   "mimetype": "text/x-python",
   "name": "python",
   "nbconvert_exporter": "python",
   "pygments_lexer": "ipython3",
   "version": "3.7.4"
  }
 },
 "nbformat": 4,
 "nbformat_minor": 4
}
